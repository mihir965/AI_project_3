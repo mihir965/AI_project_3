{
 "cells": [
  {
   "cell_type": "code",
   "execution_count": 1,
   "metadata": {},
   "outputs": [],
   "source": [
    "import torch\n",
    "import torchvision\n",
    "import torchvision.transforms as transforms\n",
    "import torchvision.datasets as datasets\n",
    "import matplotlib.pyplot as plt\n",
    "import numpy as np\n",
    "import torch.nn as nn\n",
    "import torch.optim as optim\n",
    "import random"
   ]
  },
  {
   "cell_type": "code",
   "execution_count": null,
   "metadata": {},
   "outputs": [],
   "source": [
    "class RatCatchingDataset(Dataset):\n",
    "    def __init__(self, bot_grid, rat_grid, time_rem):\n",
    "        # Convert numpy arrays to torch tensors\n",
    "        self.bot_grid = torch.tensor(bot_grid, dtype=torch.float32)\n",
    "        self.rat_grid = torch.tensor(rat_grid, dtype=torch.float32)\n",
    "        self.time_rem = torch.tensor(time_rem, dtype=torch.float32)\n",
    "        \n",
    "    def __len__(self):\n",
    "        return len(self.time_rem)\n",
    "    \n",
    "    def __getitem__(self, idx):\n",
    "        # Combine bot and rat grids as input\n",
    "        input_tensor = torch.stack([\n",
    "            self.bot_grid[idx], \n",
    "            self.rat_grid[idx]\n",
    "        ])\n",
    "        return input_tensor, self.time_rem[idx]"
   ]
  },
  {
   "cell_type": "code",
   "execution_count": null,
   "metadata": {},
   "outputs": [],
   "source": [
    "    def __init__(self, grid_size=30):\n",
    "        super(RatCatchingNetwork, self).__init__()\n",
    "        \n",
    "        # Convolutional layers to extract features\n",
    "        self.conv_layers = nn.Sequential(\n",
    "            nn.Conv2d(2, 32, kernel_size=3, padding=1),\n",
    "            nn.ReLU(),\n",
    "            nn.MaxPool2d(2),\n",
    "            nn.Conv2d(32, 64, kernel_size=3, padding=1),\n",
    "            nn.ReLU(),\n",
    "            nn.MaxPool2d(2),\n",
    "            nn.Conv2d(64, 128, kernel_size=3, padding=1),\n",
    "            nn.ReLU(),\n",
    "            nn.MaxPool2d(2)\n",
    "        )\n",
    "        \n",
    "        # Calculate the flattened size after convolutions\n",
    "        self.flattened_size = self._get_conv_output_size(grid_size)\n",
    "        \n",
    "        # Fully connected layers\n",
    "        self.fc_layers = nn.Sequential(\n",
    "            nn.Linear(self.flattened_size, 256),\n",
    "            nn.ReLU(),\n",
    "            nn.Dropout(0.5),\n",
    "            nn.Linear(256, 128),\n",
    "            nn.ReLU(),\n",
    "            nn.Dropout(0.3),\n",
    "            nn.Linear(128, 1)  # Single output for time steps remaining\n",
    "        )"
   ]
  },
  {
   "cell_type": "code",
   "execution_count": null,
   "metadata": {},
   "outputs": [],
   "source": []
  },
  {
   "cell_type": "code",
   "execution_count": null,
   "metadata": {},
   "outputs": [],
   "source": [
    "def main():\n",
    "    data = np.load('seed_457.npz')\n",
    "    bot_grid_array = data['bot_grid']\n",
    "    rat_grid_array = data['rat_grid']\n",
    "    time_rem_array = data['time_step_remaining']"
   ]
  },
  {
   "cell_type": "code",
   "execution_count": null,
   "metadata": {},
   "outputs": [],
   "source": []
  }
 ],
 "metadata": {
  "kernelspec": {
   "display_name": "ai_proj_3",
   "language": "python",
   "name": "python3"
  },
  "language_info": {
   "codemirror_mode": {
    "name": "ipython",
    "version": 3
   },
   "file_extension": ".py",
   "mimetype": "text/x-python",
   "name": "python",
   "nbconvert_exporter": "python",
   "pygments_lexer": "ipython3",
   "version": "3.12.8"
  }
 },
 "nbformat": 4,
 "nbformat_minor": 2
}
